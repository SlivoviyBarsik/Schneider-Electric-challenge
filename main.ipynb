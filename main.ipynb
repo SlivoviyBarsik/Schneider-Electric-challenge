{
 "cells": [
  {
   "cell_type": "markdown",
   "id": "b9cfea6d",
   "metadata": {},
   "source": [
    "# imports libraries"
   ]
  },
  {
   "cell_type": "code",
   "execution_count": 18,
   "id": "8928cf40",
   "metadata": {},
   "outputs": [],
   "source": [
    "import numpy as np\n",
    "import pandas as pd\n",
    "\n",
    "import matplotlib.pyplot as plt\n",
    "import seaborn as sns"
   ]
  },
  {
   "cell_type": "markdown",
   "id": "befc4a34",
   "metadata": {},
   "source": [
    "# import datas"
   ]
  },
  {
   "cell_type": "code",
   "execution_count": 6,
   "id": "98af0f23",
   "metadata": {},
   "outputs": [],
   "source": [
    "# import datas to dataframes\n",
    "df_train = pd.read_csv('train.csv')\n",
    "df_test = pd.read_csv('test.csv')"
   ]
  },
  {
   "cell_type": "code",
   "execution_count": 5,
   "id": "d6341b76",
   "metadata": {},
   "outputs": [
    {
     "data": {
      "text/html": [
       "<div>\n",
       "<style scoped>\n",
       "    .dataframe tbody tr th:only-of-type {\n",
       "        vertical-align: middle;\n",
       "    }\n",
       "\n",
       "    .dataframe tbody tr th {\n",
       "        vertical-align: top;\n",
       "    }\n",
       "\n",
       "    .dataframe thead th {\n",
       "        text-align: right;\n",
       "    }\n",
       "</style>\n",
       "<table border=\"1\" class=\"dataframe\">\n",
       "  <thead>\n",
       "    <tr style=\"text-align: right;\">\n",
       "      <th></th>\n",
       "      <th>label</th>\n",
       "      <th>latitude</th>\n",
       "      <th>longitude</th>\n",
       "      <th>year</th>\n",
       "      <th>example_path</th>\n",
       "    </tr>\n",
       "  </thead>\n",
       "  <tbody>\n",
       "    <tr>\n",
       "      <th>0</th>\n",
       "      <td>0</td>\n",
       "      <td>-2.051853</td>\n",
       "      <td>111.826093</td>\n",
       "      <td>2001</td>\n",
       "      <td>train_test_data/train/1297.png</td>\n",
       "    </tr>\n",
       "    <tr>\n",
       "      <th>1</th>\n",
       "      <td>2</td>\n",
       "      <td>-1.989349</td>\n",
       "      <td>105.309496</td>\n",
       "      <td>2013</td>\n",
       "      <td>train_test_data/train/1199.png</td>\n",
       "    </tr>\n",
       "    <tr>\n",
       "      <th>2</th>\n",
       "      <td>0</td>\n",
       "      <td>1.223256</td>\n",
       "      <td>100.702217</td>\n",
       "      <td>2014</td>\n",
       "      <td>train_test_data/train/1348.png</td>\n",
       "    </tr>\n",
       "    <tr>\n",
       "      <th>3</th>\n",
       "      <td>0</td>\n",
       "      <td>-2.342948</td>\n",
       "      <td>103.890226</td>\n",
       "      <td>2008</td>\n",
       "      <td>train_test_data/train/2214.png</td>\n",
       "    </tr>\n",
       "    <tr>\n",
       "      <th>4</th>\n",
       "      <td>0</td>\n",
       "      <td>-0.126555</td>\n",
       "      <td>101.758175</td>\n",
       "      <td>2011</td>\n",
       "      <td>train_test_data/train/2220.png</td>\n",
       "    </tr>\n",
       "    <tr>\n",
       "      <th>...</th>\n",
       "      <td>...</td>\n",
       "      <td>...</td>\n",
       "      <td>...</td>\n",
       "      <td>...</td>\n",
       "      <td>...</td>\n",
       "    </tr>\n",
       "    <tr>\n",
       "      <th>1709</th>\n",
       "      <td>0</td>\n",
       "      <td>3.819464</td>\n",
       "      <td>117.636112</td>\n",
       "      <td>2016</td>\n",
       "      <td>train_test_data/train/550.png</td>\n",
       "    </tr>\n",
       "    <tr>\n",
       "      <th>1710</th>\n",
       "      <td>0</td>\n",
       "      <td>-1.809594</td>\n",
       "      <td>111.531951</td>\n",
       "      <td>2005</td>\n",
       "      <td>train_test_data/train/2264.png</td>\n",
       "    </tr>\n",
       "    <tr>\n",
       "      <th>1711</th>\n",
       "      <td>1</td>\n",
       "      <td>0.443397</td>\n",
       "      <td>112.200163</td>\n",
       "      <td>2012</td>\n",
       "      <td>train_test_data/train/1486.png</td>\n",
       "    </tr>\n",
       "    <tr>\n",
       "      <th>1712</th>\n",
       "      <td>2</td>\n",
       "      <td>-1.978349</td>\n",
       "      <td>101.970148</td>\n",
       "      <td>2012</td>\n",
       "      <td>train_test_data/train/1170.png</td>\n",
       "    </tr>\n",
       "    <tr>\n",
       "      <th>1713</th>\n",
       "      <td>2</td>\n",
       "      <td>0.780981</td>\n",
       "      <td>123.368557</td>\n",
       "      <td>2013</td>\n",
       "      <td>train_test_data/train/273.png</td>\n",
       "    </tr>\n",
       "  </tbody>\n",
       "</table>\n",
       "<p>1714 rows × 5 columns</p>\n",
       "</div>"
      ],
      "text/plain": [
       "      label  latitude   longitude  year                    example_path\n",
       "0         0 -2.051853  111.826093  2001  train_test_data/train/1297.png\n",
       "1         2 -1.989349  105.309496  2013  train_test_data/train/1199.png\n",
       "2         0  1.223256  100.702217  2014  train_test_data/train/1348.png\n",
       "3         0 -2.342948  103.890226  2008  train_test_data/train/2214.png\n",
       "4         0 -0.126555  101.758175  2011  train_test_data/train/2220.png\n",
       "...     ...       ...         ...   ...                             ...\n",
       "1709      0  3.819464  117.636112  2016   train_test_data/train/550.png\n",
       "1710      0 -1.809594  111.531951  2005  train_test_data/train/2264.png\n",
       "1711      1  0.443397  112.200163  2012  train_test_data/train/1486.png\n",
       "1712      2 -1.978349  101.970148  2012  train_test_data/train/1170.png\n",
       "1713      2  0.780981  123.368557  2013   train_test_data/train/273.png\n",
       "\n",
       "[1714 rows x 5 columns]"
      ]
     },
     "execution_count": 5,
     "metadata": {},
     "output_type": "execute_result"
    }
   ],
   "source": [
    "df_train"
   ]
  },
  {
   "cell_type": "code",
   "execution_count": 7,
   "id": "a9d48f8c",
   "metadata": {},
   "outputs": [
    {
     "data": {
      "text/html": [
       "<div>\n",
       "<style scoped>\n",
       "    .dataframe tbody tr th:only-of-type {\n",
       "        vertical-align: middle;\n",
       "    }\n",
       "\n",
       "    .dataframe tbody tr th {\n",
       "        vertical-align: top;\n",
       "    }\n",
       "\n",
       "    .dataframe thead th {\n",
       "        text-align: right;\n",
       "    }\n",
       "</style>\n",
       "<table border=\"1\" class=\"dataframe\">\n",
       "  <thead>\n",
       "    <tr style=\"text-align: right;\">\n",
       "      <th></th>\n",
       "      <th>latitude</th>\n",
       "      <th>longitude</th>\n",
       "      <th>year</th>\n",
       "      <th>example_path</th>\n",
       "    </tr>\n",
       "  </thead>\n",
       "  <tbody>\n",
       "    <tr>\n",
       "      <th>0</th>\n",
       "      <td>0.761681</td>\n",
       "      <td>122.755954</td>\n",
       "      <td>2006</td>\n",
       "      <td>train_test_data/test/69.png</td>\n",
       "    </tr>\n",
       "    <tr>\n",
       "      <th>1</th>\n",
       "      <td>-8.059785</td>\n",
       "      <td>113.053791</td>\n",
       "      <td>2007</td>\n",
       "      <td>train_test_data/test/469.png</td>\n",
       "    </tr>\n",
       "    <tr>\n",
       "      <th>2</th>\n",
       "      <td>-2.006610</td>\n",
       "      <td>111.746316</td>\n",
       "      <td>2002</td>\n",
       "      <td>train_test_data/test/6.png</td>\n",
       "    </tr>\n",
       "    <tr>\n",
       "      <th>3</th>\n",
       "      <td>0.901765</td>\n",
       "      <td>114.042495</td>\n",
       "      <td>2016</td>\n",
       "      <td>train_test_data/test/351.png</td>\n",
       "    </tr>\n",
       "    <tr>\n",
       "      <th>4</th>\n",
       "      <td>1.911210</td>\n",
       "      <td>100.829633</td>\n",
       "      <td>2008</td>\n",
       "      <td>train_test_data/test/1001.png</td>\n",
       "    </tr>\n",
       "    <tr>\n",
       "      <th>...</th>\n",
       "      <td>...</td>\n",
       "      <td>...</td>\n",
       "      <td>...</td>\n",
       "      <td>...</td>\n",
       "    </tr>\n",
       "    <tr>\n",
       "      <th>630</th>\n",
       "      <td>1.650899</td>\n",
       "      <td>101.314723</td>\n",
       "      <td>2011</td>\n",
       "      <td>train_test_data/test/968.png</td>\n",
       "    </tr>\n",
       "    <tr>\n",
       "      <th>631</th>\n",
       "      <td>-1.645649</td>\n",
       "      <td>102.612332</td>\n",
       "      <td>2010</td>\n",
       "      <td>train_test_data/test/54.png</td>\n",
       "    </tr>\n",
       "    <tr>\n",
       "      <th>632</th>\n",
       "      <td>-0.557796</td>\n",
       "      <td>114.561609</td>\n",
       "      <td>2016</td>\n",
       "      <td>train_test_data/test/494.png</td>\n",
       "    </tr>\n",
       "    <tr>\n",
       "      <th>633</th>\n",
       "      <td>-3.037549</td>\n",
       "      <td>113.872045</td>\n",
       "      <td>2009</td>\n",
       "      <td>train_test_data/test/287.png</td>\n",
       "    </tr>\n",
       "    <tr>\n",
       "      <th>634</th>\n",
       "      <td>-0.724728</td>\n",
       "      <td>102.432386</td>\n",
       "      <td>2009</td>\n",
       "      <td>train_test_data/test/603.png</td>\n",
       "    </tr>\n",
       "  </tbody>\n",
       "</table>\n",
       "<p>635 rows × 4 columns</p>\n",
       "</div>"
      ],
      "text/plain": [
       "     latitude   longitude  year                   example_path\n",
       "0    0.761681  122.755954  2006    train_test_data/test/69.png\n",
       "1   -8.059785  113.053791  2007   train_test_data/test/469.png\n",
       "2   -2.006610  111.746316  2002     train_test_data/test/6.png\n",
       "3    0.901765  114.042495  2016   train_test_data/test/351.png\n",
       "4    1.911210  100.829633  2008  train_test_data/test/1001.png\n",
       "..        ...         ...   ...                            ...\n",
       "630  1.650899  101.314723  2011   train_test_data/test/968.png\n",
       "631 -1.645649  102.612332  2010    train_test_data/test/54.png\n",
       "632 -0.557796  114.561609  2016   train_test_data/test/494.png\n",
       "633 -3.037549  113.872045  2009   train_test_data/test/287.png\n",
       "634 -0.724728  102.432386  2009   train_test_data/test/603.png\n",
       "\n",
       "[635 rows x 4 columns]"
      ]
     },
     "execution_count": 7,
     "metadata": {},
     "output_type": "execute_result"
    }
   ],
   "source": [
    "df_test"
   ]
  },
  {
   "cell_type": "markdown",
   "id": "a5c11579",
   "metadata": {},
   "source": [
    "# data exploration"
   ]
  },
  {
   "cell_type": "markdown",
   "id": "a037170a",
   "metadata": {},
   "source": [
    "## general"
   ]
  },
  {
   "cell_type": "code",
   "execution_count": 8,
   "id": "e4304596",
   "metadata": {},
   "outputs": [
    {
     "name": "stdout",
     "output_type": "stream",
     "text": [
      "<class 'pandas.core.frame.DataFrame'>\n",
      "RangeIndex: 1714 entries, 0 to 1713\n",
      "Data columns (total 5 columns):\n",
      " #   Column        Non-Null Count  Dtype  \n",
      "---  ------        --------------  -----  \n",
      " 0   label         1714 non-null   int64  \n",
      " 1   latitude      1714 non-null   float64\n",
      " 2   longitude     1714 non-null   float64\n",
      " 3   year          1714 non-null   int64  \n",
      " 4   example_path  1714 non-null   object \n",
      "dtypes: float64(2), int64(2), object(1)\n",
      "memory usage: 67.1+ KB\n"
     ]
    }
   ],
   "source": [
    "df_train.info()"
   ]
  },
  {
   "cell_type": "code",
   "execution_count": 9,
   "id": "acbeb6da",
   "metadata": {},
   "outputs": [
    {
     "name": "stdout",
     "output_type": "stream",
     "text": [
      "<class 'pandas.core.frame.DataFrame'>\n",
      "RangeIndex: 635 entries, 0 to 634\n",
      "Data columns (total 4 columns):\n",
      " #   Column        Non-Null Count  Dtype  \n",
      "---  ------        --------------  -----  \n",
      " 0   latitude      635 non-null    float64\n",
      " 1   longitude     635 non-null    float64\n",
      " 2   year          635 non-null    int64  \n",
      " 3   example_path  635 non-null    object \n",
      "dtypes: float64(2), int64(1), object(1)\n",
      "memory usage: 20.0+ KB\n"
     ]
    }
   ],
   "source": [
    "df_test.info()"
   ]
  },
  {
   "cell_type": "code",
   "execution_count": 29,
   "id": "e6706fb2",
   "metadata": {},
   "outputs": [
    {
     "data": {
      "text/plain": [
       "label           0\n",
       "latitude        0\n",
       "longitude       0\n",
       "year            0\n",
       "example_path    0\n",
       "dtype: int64"
      ]
     },
     "execution_count": 29,
     "metadata": {},
     "output_type": "execute_result"
    }
   ],
   "source": [
    "# we check that there are no nulls\n",
    "df_train.isnull().sum()"
   ]
  },
  {
   "cell_type": "code",
   "execution_count": 30,
   "id": "e04221c3",
   "metadata": {},
   "outputs": [
    {
     "data": {
      "text/plain": [
       "latitude        0\n",
       "longitude       0\n",
       "year            0\n",
       "example_path    0\n",
       "dtype: int64"
      ]
     },
     "execution_count": 30,
     "metadata": {},
     "output_type": "execute_result"
    }
   ],
   "source": [
    "df_test.isnull().sum()"
   ]
  },
  {
   "cell_type": "code",
   "execution_count": 31,
   "id": "729df926",
   "metadata": {},
   "outputs": [
    {
     "data": {
      "text/plain": [
       "array([2001, 2002, 2003, 2004, 2005, 2006, 2007, 2008, 2009, 2010, 2011,\n",
       "       2012, 2013, 2014, 2015, 2016], dtype=int64)"
      ]
     },
     "execution_count": 31,
     "metadata": {},
     "output_type": "execute_result"
    }
   ],
   "source": [
    "# we check the years of the data\n",
    "df_train.sort_values('year')['year'].unique()"
   ]
  },
  {
   "cell_type": "markdown",
   "id": "9f871b73",
   "metadata": {},
   "source": [
    "## one image"
   ]
  },
  {
   "cell_type": "code",
   "execution_count": 32,
   "id": "222f38c5",
   "metadata": {},
   "outputs": [
    {
     "data": {
      "text/plain": [
       "'train_test_data/train/1297.png'"
      ]
     },
     "execution_count": 32,
     "metadata": {},
     "output_type": "execute_result"
    }
   ],
   "source": [
    "# extract the path of the first image\n",
    "path = df_train.iloc[0]['example_path']\n",
    "path"
   ]
  },
  {
   "cell_type": "code",
   "execution_count": 33,
   "id": "c9aab960",
   "metadata": {},
   "outputs": [],
   "source": [
    "# extract the first image\n",
    "image = plt.imread(path)"
   ]
  },
  {
   "cell_type": "code",
   "execution_count": 20,
   "id": "c5db22db",
   "metadata": {},
   "outputs": [
    {
     "data": {
      "text/plain": [
       "array([[[0.1764706 , 0.23137255, 0.21960784],\n",
       "        [0.15686275, 0.21176471, 0.2       ],\n",
       "        [0.11372549, 0.16470589, 0.15294118],\n",
       "        ...,\n",
       "        [0.07058824, 0.10980392, 0.06666667],\n",
       "        [0.07058824, 0.11372549, 0.06666667],\n",
       "        [0.07843138, 0.12156863, 0.07450981]],\n",
       "\n",
       "       [[0.19215687, 0.24705882, 0.23529412],\n",
       "        [0.16862746, 0.21960784, 0.20392157],\n",
       "        [0.11764706, 0.16862746, 0.15294118],\n",
       "        ...,\n",
       "        [0.08235294, 0.11764706, 0.08235294],\n",
       "        [0.08235294, 0.11764706, 0.07450981],\n",
       "        [0.07450981, 0.10980392, 0.05490196]],\n",
       "\n",
       "       [[0.16862746, 0.21960784, 0.20784314],\n",
       "        [0.12941177, 0.1764706 , 0.14901961],\n",
       "        [0.09411765, 0.14117648, 0.11372549],\n",
       "        ...,\n",
       "        [0.12941177, 0.16078432, 0.12941177],\n",
       "        [0.10980392, 0.14117648, 0.09019608],\n",
       "        [0.09411765, 0.1254902 , 0.07058824]],\n",
       "\n",
       "       ...,\n",
       "\n",
       "       [[0.07058824, 0.11372549, 0.10980392],\n",
       "        [0.07058824, 0.11372549, 0.10588235],\n",
       "        [0.07450981, 0.11372549, 0.10980392],\n",
       "        ...,\n",
       "        [0.07843138, 0.13725491, 0.09019608],\n",
       "        [0.07843138, 0.14117648, 0.10588235],\n",
       "        [0.08235294, 0.14117648, 0.10588235]],\n",
       "\n",
       "       [[0.07058824, 0.11372549, 0.10980392],\n",
       "        [0.07058824, 0.10980392, 0.10980392],\n",
       "        [0.07450981, 0.11372549, 0.11372549],\n",
       "        ...,\n",
       "        [0.07450981, 0.13725491, 0.09803922],\n",
       "        [0.07843138, 0.13725491, 0.11764706],\n",
       "        [0.07843138, 0.14117648, 0.11764706]],\n",
       "\n",
       "       [[0.05882353, 0.10196079, 0.10196079],\n",
       "        [0.07450981, 0.11372549, 0.11372549],\n",
       "        [0.07450981, 0.11372549, 0.11372549],\n",
       "        ...,\n",
       "        [0.07450981, 0.13725491, 0.09411765],\n",
       "        [0.07450981, 0.13725491, 0.10196079],\n",
       "        [0.08235294, 0.14509805, 0.11372549]]], dtype=float32)"
      ]
     },
     "execution_count": 20,
     "metadata": {},
     "output_type": "execute_result"
    }
   ],
   "source": [
    "image"
   ]
  },
  {
   "cell_type": "code",
   "execution_count": 27,
   "id": "34ba964a",
   "metadata": {},
   "outputs": [
    {
     "data": {
      "text/plain": [
       "(332, 332, 3)"
      ]
     },
     "execution_count": 27,
     "metadata": {},
     "output_type": "execute_result"
    }
   ],
   "source": [
    "image.shape"
   ]
  },
  {
   "cell_type": "code",
   "execution_count": 21,
   "id": "2a30fa81",
   "metadata": {},
   "outputs": [
    {
     "data": {
      "image/png": "[encoded data removed]",
      "text/plain": [
       "<Figure size 432x288 with 1 Axes>"
      ]
     },
     "metadata": {
      "needs_background": "light"
     },
     "output_type": "display_data"
    }
   ],
   "source": [
    "plt.imshow(image)\n",
    "plt.show()"
   ]
  },
  {
   "cell_type": "markdown",
   "id": "a59fc33d",
   "metadata": {},
   "source": [
    "Each image is a tridimensional array: 332 pixels and the quantity of each 3 primary color"
   ]
  },
  {
   "cell_type": "code",
   "execution_count": 36,
   "id": "42ca68e5",
   "metadata": {},
   "outputs": [],
   "source": [
    "image2 = image.reshape(image.shape[0], -1).T"
   ]
  },
  {
   "cell_type": "code",
   "execution_count": 37,
   "id": "f79a10e9",
   "metadata": {},
   "outputs": [
    {
     "data": {
      "text/plain": [
       "(996, 332)"
      ]
     },
     "execution_count": 37,
     "metadata": {},
     "output_type": "execute_result"
    }
   ],
   "source": [
    "image2.shape"
   ]
  },
  {
   "cell_type": "code",
   "execution_count": null,
   "id": "f80dfca7",
   "metadata": {},
   "outputs": [],
   "source": []
  }
 ],
 "metadata": {
  "kernelspec": {
   "display_name": "Python 3 (ipykernel)",
   "language": "python",
   "name": "python3"
  },
  "language_info": {
   "codemirror_mode": {
    "name": "ipython",
    "version": 3
   },
   "file_extension": ".py",
   "mimetype": "text/x-python",
   "name": "python",
   "nbconvert_exporter": "python",
   "pygments_lexer": "ipython3",
   "version": "3.9.12"
  },
  "toc": {
   "base_numbering": 1,
   "nav_menu": {},
   "number_sections": true,
   "sideBar": true,
   "skip_h1_title": false,
   "title_cell": "Table of Contents",
   "title_sidebar": "Contents",
   "toc_cell": false,
   "toc_position": {},
   "toc_section_display": true,
   "toc_window_display": true
  }
 },
 "nbformat": 4,
 "nbformat_minor": 5
}
